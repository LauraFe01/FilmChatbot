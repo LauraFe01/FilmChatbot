{
 "cells": [
  {
   "cell_type": "code",
   "execution_count": 1,
   "metadata": {},
   "outputs": [],
   "source": [
    "import pandas as pd\n",
    "import matplotlib.pyplot as plt\n",
    "import seaborn as sns"
   ]
  },
  {
   "cell_type": "code",
   "execution_count": 2,
   "metadata": {},
   "outputs": [],
   "source": [
    "df = pd.read_csv(\"imdb_top_1000.csv\")"
   ]
  },
  {
   "cell_type": "code",
   "execution_count": 3,
   "metadata": {},
   "outputs": [
    {
     "data": {
      "text/plain": [
       "999"
      ]
     },
     "execution_count": 3,
     "metadata": {},
     "output_type": "execute_result"
    }
   ],
   "source": [
    "titles = df['Series_Title'].unique()\n",
    "len(titles)"
   ]
  },
  {
   "cell_type": "code",
   "execution_count": 4,
   "metadata": {},
   "outputs": [],
   "source": [
    "file_path = 'film_titles.txt'\n",
    "with open(file_path, 'w') as f:\n",
    "    for title in titles:\n",
    "        f.write(title + '\\n')\n"
   ]
  },
  {
   "cell_type": "code",
   "execution_count": 5,
   "metadata": {},
   "outputs": [
    {
     "name": "stdout",
     "output_type": "stream",
     "text": [
      "                                           Poster_Link  \\\n",
      "0    https://m.media-amazon.com/images/M/MV5BMDFkYT...   \n",
      "1    https://m.media-amazon.com/images/M/MV5BM2MyNj...   \n",
      "2    https://m.media-amazon.com/images/M/MV5BMTMxNT...   \n",
      "3    https://m.media-amazon.com/images/M/MV5BMWMwMG...   \n",
      "4    https://m.media-amazon.com/images/M/MV5BMWU4N2...   \n",
      "..                                                 ...   \n",
      "912  https://m.media-amazon.com/images/M/MV5BMTU5MD...   \n",
      "911  https://m.media-amazon.com/images/M/MV5BYmFmNj...   \n",
      "910  https://m.media-amazon.com/images/M/MV5BMjAxOT...   \n",
      "909  https://m.media-amazon.com/images/M/MV5BMjI2OD...   \n",
      "999  https://m.media-amazon.com/images/M/MV5BMTY5OD...   \n",
      "\n",
      "                 Series_Title Released_Year Certificate  Runtime  \\\n",
      "0    The Shawshank Redemption          1994           A  142 min   \n",
      "1               The Godfather          1972           A  175 min   \n",
      "2             The Dark Knight          2008          UA  152 min   \n",
      "3      The Godfather: Part II          1974           A  202 min   \n",
      "4                12 Angry Men          1957           U   96 min   \n",
      "..                        ...           ...         ...      ...   \n",
      "912                Zombieland          2009           A   88 min   \n",
      "911        La piel que habito          2011           R  120 min   \n",
      "910                 Moneyball          2011       PG-13  133 min   \n",
      "909                 Celda 211          2009         NaN  113 min   \n",
      "999              The 39 Steps          1935         NaN   86 min   \n",
      "\n",
      "                          Genre  IMDB_Rating  \\\n",
      "0                         Drama          9.3   \n",
      "1                  Crime, Drama          9.2   \n",
      "2          Action, Crime, Drama          9.0   \n",
      "3                  Crime, Drama          9.0   \n",
      "4                  Crime, Drama          9.0   \n",
      "..                          ...          ...   \n",
      "912  Adventure, Comedy, Fantasy          7.6   \n",
      "911     Drama, Horror, Thriller          7.6   \n",
      "910     Biography, Drama, Sport          7.6   \n",
      "909    Action, Adventure, Crime          7.6   \n",
      "999    Crime, Mystery, Thriller          7.6   \n",
      "\n",
      "                                              Overview  Meta_score  \\\n",
      "0    Two imprisoned men bond over a number of years...        80.0   \n",
      "1    An organized crime dynasty's aging patriarch t...       100.0   \n",
      "2    When the menace known as the Joker wreaks havo...        84.0   \n",
      "3    The early life and career of Vito Corleone in ...        90.0   \n",
      "4    A jury holdout attempts to prevent a miscarria...        96.0   \n",
      "..                                                 ...         ...   \n",
      "912  A shy student trying to reach his family in Oh...        73.0   \n",
      "911  A brilliant plastic surgeon, haunted by past t...        70.0   \n",
      "910  Oakland A's general manager Billy Beane's succ...        87.0   \n",
      "909  The story of two men on different sides of a p...         NaN   \n",
      "999  A man in London tries to help a counter-espion...        93.0   \n",
      "\n",
      "                 Director             Star1              Star2  \\\n",
      "0          Frank Darabont       Tim Robbins     Morgan Freeman   \n",
      "1    Francis Ford Coppola     Marlon Brando          Al Pacino   \n",
      "2       Christopher Nolan    Christian Bale       Heath Ledger   \n",
      "3    Francis Ford Coppola         Al Pacino     Robert De Niro   \n",
      "4            Sidney Lumet       Henry Fonda        Lee J. Cobb   \n",
      "..                    ...               ...                ...   \n",
      "912       Ruben Fleischer   Jesse Eisenberg         Emma Stone   \n",
      "911       Pedro Almodóvar  Antonio Banderas        Elena Anaya   \n",
      "910        Bennett Miller         Brad Pitt       Robin Wright   \n",
      "909         Daniel Monzón        Luis Tosar     Alberto Ammann   \n",
      "999      Alfred Hitchcock      Robert Donat  Madeleine Carroll   \n",
      "\n",
      "               Star3                   Star4  No_of_Votes        Gross  \n",
      "0         Bob Gunton          William Sadler      2343110   28,341,469  \n",
      "1         James Caan            Diane Keaton      1620367  134,966,411  \n",
      "2      Aaron Eckhart           Michael Caine      2303232  534,858,444  \n",
      "3      Robert Duvall            Diane Keaton      1129952   57,300,000  \n",
      "4      Martin Balsam            John Fiedler       689845    4,360,000  \n",
      "..               ...                     ...          ...          ...  \n",
      "912  Woody Harrelson         Abigail Breslin       520041   75,590,286  \n",
      "911       Jan Cornet          Marisa Paredes       138959    3,185,812  \n",
      "910       Jonah Hill  Philip Seymour Hoffman       369529   75,605,492  \n",
      "909  Antonio Resines            Manuel Morón        63882          NaN  \n",
      "999   Lucie Mannheim          Godfrey Tearle        51853          NaN  \n",
      "\n",
      "[1000 rows x 16 columns]\n"
     ]
    }
   ],
   "source": [
    "top = df.sort_values(by=\"IMDB_Rating\", ascending=False)\n",
    "\n",
    "print(top)"
   ]
  },
  {
   "cell_type": "code",
   "execution_count": 6,
   "metadata": {},
   "outputs": [
    {
     "data": {
      "text/html": [
       "<div>\n",
       "<style scoped>\n",
       "    .dataframe tbody tr th:only-of-type {\n",
       "        vertical-align: middle;\n",
       "    }\n",
       "\n",
       "    .dataframe tbody tr th {\n",
       "        vertical-align: top;\n",
       "    }\n",
       "\n",
       "    .dataframe thead th {\n",
       "        text-align: right;\n",
       "    }\n",
       "</style>\n",
       "<table border=\"1\" class=\"dataframe\">\n",
       "  <thead>\n",
       "    <tr style=\"text-align: right;\">\n",
       "      <th></th>\n",
       "      <th>Poster_Link</th>\n",
       "      <th>Series_Title</th>\n",
       "      <th>Released_Year</th>\n",
       "      <th>Certificate</th>\n",
       "      <th>Runtime</th>\n",
       "      <th>Genre</th>\n",
       "      <th>IMDB_Rating</th>\n",
       "      <th>Overview</th>\n",
       "      <th>Meta_score</th>\n",
       "      <th>Director</th>\n",
       "      <th>Star1</th>\n",
       "      <th>Star2</th>\n",
       "      <th>Star3</th>\n",
       "      <th>Star4</th>\n",
       "      <th>No_of_Votes</th>\n",
       "      <th>Gross</th>\n",
       "    </tr>\n",
       "  </thead>\n",
       "  <tbody>\n",
       "    <tr>\n",
       "      <th>38</th>\n",
       "      <td>https://m.media-amazon.com/images/M/MV5BOWRiZD...</td>\n",
       "      <td>The Pianist</td>\n",
       "      <td>2002</td>\n",
       "      <td>R</td>\n",
       "      <td>150 min</td>\n",
       "      <td>Biography, Drama, Music</td>\n",
       "      <td>8.5</td>\n",
       "      <td>A Polish Jewish musician struggles to survive ...</td>\n",
       "      <td>85.0</td>\n",
       "      <td>Roman Polanski</td>\n",
       "      <td>Adrien Brody</td>\n",
       "      <td>Thomas Kretschmann</td>\n",
       "      <td>Frank Finlay</td>\n",
       "      <td>Emilia Fox</td>\n",
       "      <td>729603</td>\n",
       "      <td>32,572,577</td>\n",
       "    </tr>\n",
       "    <tr>\n",
       "      <th>249</th>\n",
       "      <td>https://m.media-amazon.com/images/M/MV5BMzIwOT...</td>\n",
       "      <td>La leggenda del pianista sull'oceano</td>\n",
       "      <td>1998</td>\n",
       "      <td>U</td>\n",
       "      <td>169 min</td>\n",
       "      <td>Drama, Music, Romance</td>\n",
       "      <td>8.1</td>\n",
       "      <td>A baby boy, discovered in 1900 on an ocean lin...</td>\n",
       "      <td>58.0</td>\n",
       "      <td>Giuseppe Tornatore</td>\n",
       "      <td>Tim Roth</td>\n",
       "      <td>Pruitt Taylor Vince</td>\n",
       "      <td>Mélanie Thierry</td>\n",
       "      <td>Bill Nunn</td>\n",
       "      <td>59020</td>\n",
       "      <td>259,127</td>\n",
       "    </tr>\n",
       "  </tbody>\n",
       "</table>\n",
       "</div>"
      ],
      "text/plain": [
       "                                           Poster_Link  \\\n",
       "38   https://m.media-amazon.com/images/M/MV5BOWRiZD...   \n",
       "249  https://m.media-amazon.com/images/M/MV5BMzIwOT...   \n",
       "\n",
       "                             Series_Title Released_Year Certificate  Runtime  \\\n",
       "38                            The Pianist          2002           R  150 min   \n",
       "249  La leggenda del pianista sull'oceano          1998           U  169 min   \n",
       "\n",
       "                       Genre  IMDB_Rating  \\\n",
       "38   Biography, Drama, Music          8.5   \n",
       "249    Drama, Music, Romance          8.1   \n",
       "\n",
       "                                              Overview  Meta_score  \\\n",
       "38   A Polish Jewish musician struggles to survive ...        85.0   \n",
       "249  A baby boy, discovered in 1900 on an ocean lin...        58.0   \n",
       "\n",
       "               Director         Star1                Star2            Star3  \\\n",
       "38       Roman Polanski  Adrien Brody   Thomas Kretschmann     Frank Finlay   \n",
       "249  Giuseppe Tornatore      Tim Roth  Pruitt Taylor Vince  Mélanie Thierry   \n",
       "\n",
       "          Star4  No_of_Votes       Gross  \n",
       "38   Emilia Fox       729603  32,572,577  \n",
       "249   Bill Nunn        59020     259,127  "
      ]
     },
     "execution_count": 6,
     "metadata": {},
     "output_type": "execute_result"
    }
   ],
   "source": [
    "movie_row = df[df['Series_Title'].str.contains(\"pianist\", case=False, na=False)]\n",
    "movie_row.head()"
   ]
  },
  {
   "cell_type": "code",
   "execution_count": 31,
   "metadata": {},
   "outputs": [
    {
     "name": "stdout",
     "output_type": "stream",
     "text": [
      "['Drama' 'Crime' 'Action' 'Adventure' 'Biography' 'History' 'Sci-Fi'\n",
      " 'Romance' 'Western' 'Fantasy' 'Comedy' 'Thriller' 'Animation' 'Family'\n",
      " 'War' 'Mystery' 'Music' 'Horror' 'Musical' 'Film-Noir' 'Sport']\n",
      "21\n"
     ]
    }
   ],
   "source": [
    "# Split dei generi separati da virgola, e unione di tutti i generi\n",
    "all_genres = df['Genre'].str.split(', ').explode().unique()\n",
    "\n",
    "print(all_genres)\n",
    "print(len(all_genres))"
   ]
  },
  {
   "cell_type": "code",
   "execution_count": 9,
   "metadata": {},
   "outputs": [
    {
     "name": "stdout",
     "output_type": "stream",
     "text": [
      "Poster_Link       object\n",
      "Series_Title      object\n",
      "Released_Year     object\n",
      "Certificate       object\n",
      "Runtime           object\n",
      "Genre             object\n",
      "IMDB_Rating      float64\n",
      "Overview          object\n",
      "Meta_score       float64\n",
      "Director          object\n",
      "Star1             object\n",
      "Star2             object\n",
      "Star3             object\n",
      "Star4             object\n",
      "No_of_Votes        int64\n",
      "Gross             object\n",
      "dtype: object\n"
     ]
    }
   ],
   "source": [
    "print(df.dtypes)"
   ]
  },
  {
   "cell_type": "code",
   "execution_count": 10,
   "metadata": {},
   "outputs": [
    {
     "name": "stdout",
     "output_type": "stream",
     "text": [
      "float64\n",
      "0     28341469.0\n",
      "1    134966411.0\n",
      "2    534858444.0\n",
      "3     57300000.0\n",
      "4      4360000.0\n",
      "Name: Gross, dtype: float64\n"
     ]
    }
   ],
   "source": [
    "# Rimuovi le virgole dalla colonna \"Gross\" e convertila in float\n",
    "\n",
    "movies_df = df\n",
    "movies_df[\"Gross\"] = movies_df[\"Gross\"].replace({',': ''}, regex=True)  # Rimuove le virgole\n",
    "movies_df[\"Gross\"] = pd.to_numeric(movies_df[\"Gross\"], errors='coerce')  # Converte in float, impostando a NaN se ci sono errori\n",
    "\n",
    "# Verifica che la colonna \"Gross\" sia stata convertita correttamente\n",
    "print(movies_df[\"Gross\"].dtype)\n",
    "print(movies_df[\"Gross\"].head())\n"
   ]
  },
  {
   "cell_type": "code",
   "execution_count": 3,
   "metadata": {},
   "outputs": [
    {
     "name": "stdout",
     "output_type": "stream",
     "text": [
      "Film più vecchio:\n",
      " Series_Title     Das Cabinet des Dr. Caligari\n",
      "Released_Year                          1920.0\n",
      "Name: 321, dtype: object\n",
      "\n",
      "Film più recente:\n",
      " Series_Title     Hamilton\n",
      "Released_Year      2020.0\n",
      "Name: 18, dtype: object\n"
     ]
    }
   ],
   "source": [
    "import pandas as pd\n",
    "\n",
    "# Supponiamo che il dataframe sia già caricato come df\n",
    "\n",
    "# Convertiamo la colonna 'Released_Year' in numerico, gestendo eventuali errori\n",
    "df['Released_Year'] = pd.to_numeric(df['Released_Year'], errors='coerce')\n",
    "\n",
    "# Film più vecchio\n",
    "film_piu_vecchio = df.loc[df['Released_Year'].idxmin()]\n",
    "\n",
    "# Film più recente\n",
    "film_piu_recente = df.loc[df['Released_Year'].idxmax()]\n",
    "\n",
    "print(\"Film più vecchio:\\n\", film_piu_vecchio[['Series_Title', 'Released_Year']])\n",
    "print(\"\\nFilm più recente:\\n\", film_piu_recente[['Series_Title', 'Released_Year']])\n"
   ]
  },
  {
   "cell_type": "code",
   "execution_count": 24,
   "metadata": {},
   "outputs": [
    {
     "data": {
      "image/png": "[encoded data removed]",
      "text/plain": [
       "<Figure size 1000x600 with 1 Axes>"
      ]
     },
     "metadata": {},
     "output_type": "display_data"
    }
   ],
   "source": [
    "df['Decade'] = (df['Released_Year'] // 10) * 10\n",
    "\n",
    "# Calcoliamo la distribuzione per decade\n",
    "decade_distribution = df['Decade'].value_counts().sort_index()\n",
    "\n",
    "# Plot della distribuzione per decadi\n",
    "plt.figure(figsize=(10, 6))\n",
    "decade_distribution.plot(kind='bar', color='skyblue')\n",
    "plt.title('Distribuzione dei film per decadi')\n",
    "plt.xlabel('Decade')\n",
    "plt.ylabel('Numero di film')\n",
    "plt.xticks(rotation=45)\n",
    "plt.show()\n",
    "\n",
    "\n"
   ]
  },
  {
   "cell_type": "code",
   "execution_count": 30,
   "metadata": {},
   "outputs": [
    {
     "data": {
      "image/png": "[encoded data removed]",
      "text/plain": [
       "<Figure size 1200x800 with 1 Axes>"
      ]
     },
     "metadata": {},
     "output_type": "display_data"
    }
   ],
   "source": [
    "# Creiamo una lista di generi separati da virgola\n",
    "# Splittiamo, esplodiamo e rimuoviamo eventuali duplicati (per ogni film)\n",
    "genre_distribution = df['Genre'].str.split(',').explode().str.strip().value_counts()\n",
    "\n",
    "# Plot della distribuzione per genere\n",
    "plt.figure(figsize=(12, 8))\n",
    "genre_distribution.plot(kind='barh', color='lightcoral')\n",
    "plt.title('Distribuzione dei film per genere')\n",
    "plt.xlabel('Numero di film')\n",
    "plt.ylabel('Genere')\n",
    "plt.show()\n"
   ]
  },
  {
   "cell_type": "code",
   "execution_count": 29,
   "metadata": {},
   "outputs": [
    {
     "name": "stdout",
     "output_type": "stream",
     "text": [
      "Anno di produzione del primo film nel dataset: 1920.0\n",
      "Anno di produzione dell'ultimo film nel dataset: 2020.0\n"
     ]
    }
   ],
   "source": [
    "# Convertiamo la colonna 'Released_Year' in numerico (gestendo le stringhe)\n",
    "df['Released_Year'] = pd.to_numeric(df['Released_Year'], errors='coerce')\n",
    "\n",
    "# Troviamo l'anno di produzione del primo e dell'ultimo film\n",
    "first_film_year = df['Released_Year'].min()\n",
    "last_film_year = df['Released_Year'].max()\n",
    "\n",
    "print(f\"Anno di produzione del primo film nel dataset: {first_film_year}\")\n",
    "print(f\"Anno di produzione dell'ultimo film nel dataset: {last_film_year}\")\n"
   ]
  },
  {
   "cell_type": "code",
   "execution_count": null,
   "metadata": {},
   "outputs": [
    {
     "name": "stdout",
     "output_type": "stream",
     "text": [
      "Numero di attori con più di due parole nel nome: 178\n",
      "['Robert De Niro', 'Lee J. Cobb', 'Samuel L. Jackson', 'Lee Van Cleef', 'Billy Dee Williams', 'Leslie Odom Jr.', 'Renée Elise Goldsberry', 'Michael Clarke Duncan', 'Andrew Kevin Walker', 'Lawrence A. Bonney', 'Anne Le Ny', 'James Earl Jones', 'Michael J. Fox', 'Zain Al Rafeea', 'Boluwatife Treasure Bankole', 'Kawsar Al Haddad', 'Fatima Sana Shaikh', 'Robert Downey Jr', 'Gael García Bernal', 'Mark Boone Junior', 'George C. Scott', 'Erich von Stroheim', 'Thomas Bo Larsen', 'Aras Bulut Iynemli', 'Nisa Sofiya Aksongur', 'Celile Toyon Uysal', 'Gerry Robert Byrne', 'Benicio Del Toro', 'Mohammad Amir Naji', 'Amir Farrokh Hashemian', 'R. Lee Ermey', 'F. Murray Abraham', 'Mary Elizabeth Mastrantonio', 'Gian Maria Volontè', 'Eva Marie Saint', 'Jessie Royce Landis', 'Barbara Bel Geddes', 'Edward G. Robinson', 'Sushant Singh Rajput', 'Caleb Landry Jones', 'Konkona Sen Sharma', 'Carlos Martínez López', 'Shah Rukh Khan', 'Soha Ali Khan', 'Alexandra Maria Lara', 'Max von Sydow', 'Antoine Olivier Pilon', 'Kay Kay Menon', 'Neil Patrick Harris', 'Ronnie Del Carmen', 'Michael Kenneth Williams', 'Philip Seymour Hoffman', 'Marcia Gay Harden', 'Tommy Lee Jones', 'Louise Lemoine Torrès', 'Saif Ali Khan', 'Haley Joel Osment', 'Pruitt Taylor Vince', \"Srdjan 'Zika' Todorovic\", 'Tony Chiu-Wai Leung', 'Ping Lam Siu', \"Tung Cho 'Joe' Cheung\", 'Jonny Lee Miller', 'William H. Macy', \"Predrag 'Miki' Manojlovic\", 'Abdel Ahmed Ghili', 'Robert Sean Leonard', 'Harry Dean Stanton', 'Miguel Ángel Fuentes', 'Edward James Olmos', 'Peter van Eyck', 'Al Ernest Garcia', 'Chloë Grace Moretz', 'Nakul Roshan Sahdev', 'John Gallagher Jr.', 'Ana de Armas', 'Helena Bonham Carter', 'Bryce Dallas Howard', 'Ka Tung Lam', 'Katie A. Keane', 'Anthony Chau-Sang Wong', 'Craig T. Nelson', 'Ömer Faruk Sorak', 'Jane Galloway Heitz', 'Joseph A. Carpenter', 'Vinícius de Oliveira', 'Harry Connick Jr.', 'Jan Josef Liefers', 'Thierry van Werveke', 'Billy Bob Thornton', 'Rodney A. Grant', 'Gerald R. Molen', 'Stanislas Carré de Malberg', 'André S. Labarthe', 'Jay C. Flippen', 'Carl Benton Reid', 'Jamie Lee Curtis', 'Rima Te Wiata', 'Maria Doyle Kennedy', 'Roman Griffin Davis', 'Ahmet Mümtaz Taylan', 'Evan Rachel Wood', 'David Lee Smith', 'Zarah Jane McKenzie', 'María Mercedes Villagra', 'Penelope Ann Miller', 'Anthony Michael Hall', 'Charles Martin Smith', 'Scott H. Reiniger', 'Leo G. Carroll', 'William H. Lynn', 'Howard Da Silva', 'Olivia de Havilland', 'Ernest B. Schoedsack', 'Gustav von Wangenheim', 'Taraji P. Henson', 'Mikkel Boe Følsgaard', 'Jennifer Jason Leigh', \"O'Shea Jackson Jr.\", 'Neil Brown Jr.', 'Sacha Baron Cohen', \"Zac Mattoon O'Brien\", 'Linh Dan Pham', 'Raoul Max Trujillo', 'Rodrigo De la Serna', 'Trevor Jack Brooks', 'Antonia San Juan', 'Sean Patrick Flanery', 'David Della Rocco', 'Deborah Kara Unger', 'Sarah Jessica Parker', 'Alan Randolph Scott', 'Cuba Gooding Jr.', 'Lloyd Avery II', 'Thomas F. Wilson', 'Kevin Peter Hall', 'Kassie Wesley DePaiva', 'Haing S. Ngor', 'Chief Dan George', 'Efrem Zimbalist Jr.', 'Michael J. Pollard', 'Dick Van Dyke', 'Darryl F. Zanuck', 'Marina de Tavira', 'Diego Cortina Autrey', 'Geert Van Rampelberg', 'John C. Reilly', 'Rebecca De Mornay', 'Sidse Babett Knudsen', 'Carice van Houten', 'Wotan Wilke Möhring', 'John Cameron Mitchell', 'John Rafter Lee', 'Tim Blake Nelson', 'Mary Kay Bergman', 'Maria Grazia Cucinotta', 'Kermit the Frog', 'Bunshi Katsura Vi', 'Mary Stuart Masterson', 'Johanna ter Steege', 'Richard E. Grant', 'Mary Tyler Moore', 'Jo Van Fleet', 'Tony Lo Bianco', 'Ford Beebe Jr.', 'Michael B. Jordan', 'Charlie Pye Jr.', 'Doga Zeynep Doguslu', 'Sophie Kennedy Clark', 'Garrett M. Brown', 'Jonathan Rhys Meyers', 'Jackie Earle Haley', 'J. Mackye Gruber', 'Daniel Giménez Cacho', 'Ana López Mercado', 'Michael Lee Gogin', 'Samuel E. Wright', 'Nina van Pallandt']\n"
     ]
    }
   ],
   "source": [
    "actor = df[['Star1', 'Star2', 'Star3', 'Star4']].stack().unique()\n",
    "# Filtriamo le stringhe con più di due elementi\n",
    "# Filtriamo le stringhe con più di due parole\n",
    "filtered_actors = [a for a in actor if len(a.split()) > 2]\n",
    "\n",
    "# Mostriamo il numero di elementi e la lista\n",
    "print(f\"Numero di attori con più di due parole nel nome: {len(filtered_actors)}\")\n",
    "print(filtered_actors)"
   ]
  },
  {
   "cell_type": "code",
   "execution_count": 35,
   "metadata": {},
   "outputs": [
    {
     "name": "stdout",
     "output_type": "stream",
     "text": [
      "Numero di coppie con 'Cleef': 1\n",
      "['Lee Van Cleef']\n"
     ]
    }
   ],
   "source": [
    "import itertools\n",
    "\n",
    "# Estrazione degli attori univoci\n",
    "actor = df[['Star1', 'Star2', 'Star3', 'Star4']].stack().unique().tolist()\n",
    "\n",
    "\n",
    "# Filtriamo le stringhe che contengono \"cliff\" (case-insensitive)\n",
    "filtered_actors = [a for a in actor if 'Cleef'.lower() in a.lower()]\n",
    "\n",
    "# Generiamo tutte le coppie univoche\n",
    "\n",
    "# Mostriamo il numero di coppie e la lista\n",
    "print(f\"Numero di coppie con 'Cleef': {len(filtered_actors)}\")\n",
    "print(filtered_actors)\n"
   ]
  },
  {
   "cell_type": "code",
   "execution_count": 9,
   "metadata": {},
   "outputs": [
    {
     "name": "stdout",
     "output_type": "stream",
     "text": [
      "Numero di attori con più di due parole nel nome: 50\n",
      "['Francis Ford Coppola', 'Bong Joon Ho', 'Florian Henckel von Donnersmarck', 'Rahi Anil Barve', 'Mehmet Ada Öztekin', 'Gus Van Sant', 'Brian De Palma', 'George Roy Hill', 'Vittorio De Sica', 'Rakeysh Omprakash Mehra', 'Juan José Campanella', 'Paul Thomas Anderson', 'Guillermo del Toro', 'Sanjay Leela Bhansali', 'Joseph L. Mankiewicz', 'Aniruddha Roy Chowdhury', 'Nuri Bilge Ceylan', 'Alejandro G. Iñárritu', 'M. Night Shyamalan', 'John G. Avildsen', 'Carl Theodor Dreyer', 'Amit Ravindernath Sharma', 'Destin Daniel Cretton', 'Ömer Faruk Sorak', 'Lars von Trier', 'Billy Bob Thornton', 'Franklin J. Schaffner', 'W.S. Van Dyke', 'Sergei M. Eisenstein', 'George A. Romero', 'Alan J. Pakula', 'Cecil B. DeMille', 'Merian C. Cooper', 'F. Gary Gray', 'Niels Arden Oplev', 'David O. Russell', 'Nicolas Winding Refn', 'Jaco Van Dormael', 'Anders Thomas Jensen', 'George P. Cosmatos', 'David Mickey Evans', 'Robert De Niro', 'Felix van Groeningen', 'Cary Joji Fukunaga', 'John Cameron Mitchell', 'James L. Brooks', 'Brian G. Hutton', 'J. Lee Thompson', 'Deniz Gamze Ergüven', 'John Lee Hancock']\n"
     ]
    }
   ],
   "source": [
    "directors = df['Director'].unique()\n",
    "# Filtriamo le stringhe con più di due elementi\n",
    "# Filtriamo le stringhe con più di due parole\n",
    "filtered_directors = [a for a in directors if len(a.split()) > 2]\n",
    "\n",
    "# Mostriamo il numero di elementi e la lista\n",
    "print(f\"Numero di direttori con più di due parole nel nome: {len(filtered_directors)}\")\n",
    "print(filtered_directors)"
   ]
  }
 ],
 "metadata": {
  "kernelspec": {
   "display_name": "Python 3",
   "language": "python",
   "name": "python3"
  },
  "language_info": {
   "codemirror_mode": {
    "name": "ipython",
    "version": 3
   },
   "file_extension": ".py",
   "mimetype": "text/x-python",
   "name": "python",
   "nbconvert_exporter": "python",
   "pygments_lexer": "ipython3",
   "version": "3.12.2"
  }
 },
 "nbformat": 4,
 "nbformat_minor": 2
}
